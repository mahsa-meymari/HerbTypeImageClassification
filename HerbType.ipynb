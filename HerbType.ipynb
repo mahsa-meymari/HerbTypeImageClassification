{
  "nbformat": 4,
  "nbformat_minor": 0,
  "metadata": {
    "colab": {
      "provenance": []
    },
    "kernelspec": {
      "name": "python3",
      "display_name": "Python 3"
    },
    "language_info": {
      "name": "python"
    },
    "gpuClass": "standard",
    "accelerator": "GPU"
  },
  "cells": [
    {
      "cell_type": "markdown",
      "source": [
        "#Pre Requistics"
      ],
      "metadata": {
        "id": "lCDsLnPSSF8x"
      }
    },
    {
      "cell_type": "markdown",
      "source": [
        "## Mount Google Drive\n",
        "\n",
        "\n"
      ],
      "metadata": {
        "id": "APUVhTYHxidK"
      }
    },
    {
      "cell_type": "code",
      "execution_count": null,
      "metadata": {
        "id": "rCCLIdT0dA-m"
      },
      "outputs": [],
      "source": [
        "from google.colab import drive\n",
        "drive.mount('/gdrive')"
      ]
    },
    {
      "cell_type": "code",
      "source": [
        "%cd /gdrive/My Drive/DeepProject\n",
        "%ls\n",
        "# !unzip training_dataset_homework1.zip"
      ],
      "metadata": {
        "id": "PBhVvKH9dye6"
      },
      "execution_count": null,
      "outputs": []
    },
    {
      "cell_type": "markdown",
      "source": [
        "## Import Libraries"
      ],
      "metadata": {
        "id": "TqFK5Ppmdoxw"
      }
    },
    {
      "cell_type": "code",
      "source": [
        "import tensorflow as tf\n",
        "import numpy as np\n",
        "import os\n",
        "import random\n",
        "import matplotlib.pyplot as plt\n",
        "import sklearn.model_selection\n",
        "from PIL import Image\n",
        "from tensorflow.keras.preprocessing.image import ImageDataGenerator\n",
        "import matplotlib.pyplot as plt\n",
        "from sklearn import preprocessing\n",
        "\n",
        "tfk = tf.keras\n",
        "tfkl = tf.keras.layers\n",
        "print(tf.__version__)"
      ],
      "metadata": {
        "id": "aD-nNrvEdn3L"
      },
      "execution_count": null,
      "outputs": []
    },
    {
      "cell_type": "markdown",
      "source": [
        "##Check If It Uses GPU"
      ],
      "metadata": {
        "id": "l8mx2G3ojMq1"
      }
    },
    {
      "cell_type": "code",
      "source": [
        "device_name = tf.test.gpu_device_name()\n",
        "if device_name != '/device:GPU:0':\n",
        "    raise SystemError('GPU device not found')\n",
        "print('Found GPU at: {}'.format(device_name))"
      ],
      "metadata": {
        "id": "wAsh5dr9i89J"
      },
      "execution_count": null,
      "outputs": []
    },
    {
      "cell_type": "markdown",
      "source": [
        "## Reproducibility"
      ],
      "metadata": {
        "id": "jaeoaPp3e0FD"
      }
    },
    {
      "cell_type": "code",
      "source": [
        "seed = 42\n",
        "\n",
        "random.seed(seed)\n",
        "os.environ['PYTHONHASHSEED'] = str(seed)\n",
        "np.random.seed(seed)\n",
        "tf.random.set_seed(seed)\n",
        "tf.compat.v1.set_random_seed(seed)"
      ],
      "metadata": {
        "id": "0AnjW7FfezBn"
      },
      "execution_count": null,
      "outputs": []
    },
    {
      "cell_type": "markdown",
      "source": [
        "## Some Variables For Data Load"
      ],
      "metadata": {
        "id": "UJcHmYg1esGW"
      }
    },
    {
      "cell_type": "code",
      "source": [
        "dataset_dir = 'training_data_final'\n",
        "labels = ['Species1', \n",
        "          'Species2',\n",
        "          'Species3',\n",
        "          'Species4',\n",
        "          'Species5',\n",
        "          'Species6',\n",
        "          'Species7',\n",
        "          'Species8',\n",
        "]"
      ],
      "metadata": {
        "id": "R8p-BxZtgNcs"
      },
      "execution_count": null,
      "outputs": []
    },
    {
      "cell_type": "markdown",
      "source": [
        "## Callbacks and Some Hyperparameter "
      ],
      "metadata": {
        "id": "ZmhEF6vjTMG4"
      }
    },
    {
      "cell_type": "code",
      "metadata": {
        "id": "7YcxBMJhl4EM"
      },
      "source": [
        "input_shape = (96, 96, 3)\n",
        "epochs = 500\n",
        "num_classes = 8\n",
        "patience = 15\n",
        "batch_size = 128"
      ],
      "execution_count": null,
      "outputs": []
    },
    {
      "cell_type": "code",
      "source": [
        "es_callback = tf.keras.callbacks.EarlyStopping(monitor='val_loss', patience=patience, restore_best_weights=True)"
      ],
      "metadata": {
        "id": "Fv8I11ZWcG6v"
      },
      "execution_count": null,
      "outputs": []
    },
    {
      "cell_type": "markdown",
      "source": [
        "# Load, Augment and preprocess the Data"
      ],
      "metadata": {
        "id": "hkvrRhADog6q"
      }
    },
    {
      "cell_type": "code",
      "source": [
        "def create_dataset_PIL(img_folder):\n",
        "    \n",
        "    img_data_array=[]\n",
        "    class_name=[]\n",
        "    for dir1 in os.listdir(img_folder):\n",
        "        for file in os.listdir(os.path.join(img_folder, dir1)):\n",
        "       \n",
        "            image_path= os.path.join(img_folder, dir1,  file)\n",
        "            image= np.array(Image.open(image_path))\n",
        "            img_data_array.append(image)\n",
        "            class_name.append(dir1)\n",
        "    return img_data_array , class_name\n",
        "PIL_img_data, class_name=create_dataset_PIL(dataset_dir)"
      ],
      "metadata": {
        "id": "IP85HiJSaJ3d"
      },
      "execution_count": null,
      "outputs": []
    },
    {
      "cell_type": "code",
      "source": [
        "X,y = create_dataset_PIL(dataset_dir)\n",
        "\n",
        "X_train, X_test, y_train, y_test = sklearn.model_selection.train_test_split(X,y,stratify=y,test_size=0.15)\n",
        "\n",
        "X_train = np.array(X_train)\n",
        "X_test = np.array(X_test)\n",
        "\n",
        "le = preprocessing.LabelEncoder()\n",
        "le.fit(labels)\n",
        "y_train = le.transform(y_train)\n",
        "y_test = le.transform(y_test)\n",
        "\n",
        "y_train = tfk.utils.to_categorical(y_train)\n",
        "y_test = tfk.utils.to_categorical(y_test)"
      ],
      "metadata": {
        "id": "GtIbBps3alZK"
      },
      "execution_count": null,
      "outputs": []
    },
    {
      "cell_type": "code",
      "source": [
        "def preprocess(preprocessing_function = 'None', augment = True):\n",
        "  #data augmentation\n",
        "  if augment:\n",
        "      width_shift_range = 0.3\n",
        "      height_shift_range = 0.3\n",
        "      horizontal_flip = True\n",
        "      vertical_flip = True\n",
        "  else:\n",
        "      width_shift_range = 0.0\n",
        "      height_shift_range = 0.0\n",
        "      horizontal_flip = False\n",
        "      vertical_flip = False\n",
        "\n",
        "\n",
        "  if preprocessing_function == None:\n",
        "    train_datagen = ImageDataGenerator(\n",
        "                                      width_shift_range = width_shift_range,\n",
        "                                      height_shift_range = height_shift_range,\n",
        "                                      horizontal_flip = horizontal_flip,\n",
        "                                      vertical_flip = vertical_flip,\n",
        "                                      featurewise_center=True,\n",
        "                                      featurewise_std_normalization=True,\n",
        "                                      fill_mode = 'reflect',\n",
        "                                        )\n",
        "    val_datagen = ImageDataGenerator(featurewise_center=True,featurewise_std_normalization=True)\n",
        "    train_datagen.fit(X_train)\n",
        "    val_datagen.mean = train_datagen.mean\n",
        "    val_datagen.std = train_datagen.std\n",
        "  \n",
        "  else:\n",
        "      train_datagen = ImageDataGenerator(\n",
        "                                      width_shift_range = width_shift_range,\n",
        "                                      height_shift_range = height_shift_range,\n",
        "                                      horizontal_flip = horizontal_flip,\n",
        "                                      vertical_flip = vertical_flip,\n",
        "                                      fill_mode = 'reflect',\n",
        "                                      preprocessing_function = preprocessing_function)\n",
        "      val_datagen = ImageDataGenerator(preprocessing_function=preprocessing_function)\n",
        "\n",
        "                                      \n",
        "\n",
        "\n",
        "  train_data = train_datagen.flow(X_train, y_train,batch_size = batch_size)\n",
        "  val_data = val_datagen.flow(X_test, y_test)\n",
        "  \n",
        "\n",
        "  return train_data, val_data"
      ],
      "metadata": {
        "id": "5JWou505gpQr"
      },
      "execution_count": null,
      "outputs": []
    },
    {
      "cell_type": "markdown",
      "source": [
        "# Transfer learning with EfficientnetB1 with three learning rates : [0.001,0.0002,0.00004]"
      ],
      "metadata": {
        "id": "gs5c5TRYQVRl"
      }
    },
    {
      "cell_type": "code",
      "source": [
        "preprocess_input = tf.keras.applications.efficientnet.preprocess_input\n",
        "base_model1=tf.keras.applications.efficientnet.EfficientNetB1(include_top=False,weights='imagenet',input_shape=(96,96,3),classes=8)\n",
        "print(\"Number of layers in the base model: \", len(base_model1.layers))"
      ],
      "metadata": {
        "id": "xwQy09bO-bJn"
      },
      "execution_count": null,
      "outputs": []
    },
    {
      "cell_type": "code",
      "source": [
        "aug_train_data, val_data = preprocess(augment = True,preprocessing_function= preprocess_input)"
      ],
      "metadata": {
        "id": "A5zJkgGBQ2o_"
      },
      "execution_count": null,
      "outputs": []
    },
    {
      "cell_type": "code",
      "source": [
        "base_model1.trainable = False\n",
        "inputs = tfkl.Input(shape=input_shape)\n",
        "x = base_model1(inputs)\n",
        "x = tfkl.GlobalAveragePooling2D()(x)\n",
        "x = tfkl.Dropout( 0.2,name='Dropout1', seed=seed)(x)\n",
        "x = tfkl.Dense(512,activation='relu',kernel_initializer = tfk.initializers.GlorotUniform(seed))(x)\n",
        "x = tfkl.Dropout(0.2, name='Dropout2',seed=seed)(x)\n",
        "x= tfkl.Dense(units=512, name='Classifier2', kernel_initializer=tfk.initializers.HeUniform(seed), activation='relu')(x)\n",
        "outputs = tfk.layers.Dense(8,activation='softmax',kernel_initializer=tfk.initializers.GlorotUniform(seed), name='Output')(x)\n",
        "model1 = tfk.Model(inputs, outputs)"
      ],
      "metadata": {
        "id": "0jHY_Ram-gRR"
      },
      "execution_count": null,
      "outputs": []
    },
    {
      "cell_type": "code",
      "source": [
        "model1.compile(loss=tfk.losses.CategoricalCrossentropy(), optimizer=tfk.optimizers.Adam(learning_rate=0.001), metrics='accuracy')\n",
        "model1.summary()"
      ],
      "metadata": {
        "id": "_tKra5AK5rCq"
      },
      "execution_count": null,
      "outputs": []
    },
    {
      "cell_type": "code",
      "source": [
        "history = model1.fit(\n",
        "    x = aug_train_data,\n",
        "    epochs = epochs,\n",
        "    validation_data = val_data,\n",
        "    callbacks = [tfk.callbacks.EarlyStopping(monitor='val_loss', patience=12, restore_best_weights=True )]\n",
        ").history"
      ],
      "metadata": {
        "id": "UOKBD27O-gPA"
      },
      "execution_count": null,
      "outputs": []
    },
    {
      "cell_type": "code",
      "source": [
        "model1.compile(loss=tfk.losses.CategoricalCrossentropy(), optimizer=tfk.optimizers.Adam(learning_rate=0.0002), metrics='accuracy')\n",
        "history = model1.fit(\n",
        "    x = aug_train_data,\n",
        "    epochs = epochs,\n",
        "    validation_data = val_data,\n",
        "    callbacks = [tfk.callbacks.EarlyStopping(monitor='val_loss', patience=12, restore_best_weights=True )]\n",
        ").history"
      ],
      "metadata": {
        "id": "zvjo7ne7HPlQ"
      },
      "execution_count": null,
      "outputs": []
    },
    {
      "cell_type": "code",
      "source": [
        "model1.compile(loss=tfk.losses.CategoricalCrossentropy(), optimizer=tfk.optimizers.Adam(learning_rate=0.00004), metrics='accuracy')\n",
        "history = model1.fit(\n",
        "    x = aug_train_data,\n",
        "    epochs = epochs,\n",
        "    validation_data = val_data,\n",
        "    callbacks = [tfk.callbacks.EarlyStopping(monitor='val_loss', patience=12, restore_best_weights=True )]\n",
        ").history\n"
      ],
      "metadata": {
        "id": "DryZv-5KHPfb"
      },
      "execution_count": null,
      "outputs": []
    },
    {
      "cell_type": "markdown",
      "source": [
        "# fine tuning EfficientnetB1 with three learning rates : [0.0005,0.00008,0.00002]"
      ],
      "metadata": {
        "id": "b5DACDCoK7L8"
      }
    },
    {
      "cell_type": "code",
      "source": [
        "base_model1.trainable = True"
      ],
      "metadata": {
        "id": "Np0a2IcO5myU"
      },
      "execution_count": null,
      "outputs": []
    },
    {
      "cell_type": "code",
      "source": [
        "model1.compile(loss=tfk.losses.CategoricalCrossentropy(), optimizer=tfk.optimizers.Adam(learning_rate=0.0005), metrics='accuracy')\n",
        "model1.summary()"
      ],
      "metadata": {
        "id": "4D-tv0NZEn9q"
      },
      "execution_count": null,
      "outputs": []
    },
    {
      "cell_type": "code",
      "source": [
        "history = model1.fit(\n",
        "    x = aug_train_data,\n",
        "    epochs = epochs,\n",
        "    validation_data = val_data,\n",
        "    callbacks = [tfk.callbacks.EarlyStopping(monitor='val_loss', patience=15, restore_best_weights=True )]\n",
        ").history"
      ],
      "metadata": {
        "id": "GejIpsqGEuvx"
      },
      "execution_count": null,
      "outputs": []
    },
    {
      "cell_type": "code",
      "source": [
        "model1.compile(loss=tfk.losses.CategoricalCrossentropy(), optimizer=tfk.optimizers.Adam(learning_rate=0.00008), metrics='accuracy')\n",
        "history = model1.fit(\n",
        "    x = aug_train_data,\n",
        "    epochs = epochs,\n",
        "    validation_data = val_data,\n",
        "    callbacks = [tfk.callbacks.EarlyStopping(monitor='val_loss', patience=15, restore_best_weights=True )]\n",
        ").history"
      ],
      "metadata": {
        "id": "kdmxzpMfGpzq"
      },
      "execution_count": null,
      "outputs": []
    },
    {
      "cell_type": "code",
      "source": [
        "model1.compile(loss=tfk.losses.CategoricalCrossentropy(), optimizer=tfk.optimizers.Adam(learning_rate=0.00002), metrics='accuracy')\n",
        "history = model1.fit(\n",
        "    x = aug_train_data,\n",
        "    epochs = epochs,\n",
        "    validation_data = val_data,\n",
        "    callbacks = [tfk.callbacks.EarlyStopping(monitor='val_loss', patience=15, restore_best_weights=True )]\n",
        ").history"
      ],
      "metadata": {
        "id": "n8DPd4SBGpty"
      },
      "execution_count": null,
      "outputs": []
    },
    {
      "cell_type": "code",
      "source": [
        "model1.save('MyDrive/efficientnetb1_transferall')"
      ],
      "metadata": {
        "id": "ta38myfZEzOy"
      },
      "execution_count": null,
      "outputs": []
    },
    {
      "cell_type": "markdown",
      "source": [
        "# Transfer learning with EfficientnetB2 with three learning rates : [0.001,0.0002,0.00004]"
      ],
      "metadata": {
        "id": "e0Jn9h0sLqyg"
      }
    },
    {
      "cell_type": "code",
      "source": [
        "base_model2=tf.keras.applications.efficientnet.EfficientNetB2(include_top=False,weights='imagenet',input_shape=(96,96,3),classes=8)"
      ],
      "metadata": {
        "id": "QDS2CSyeEVo5"
      },
      "execution_count": null,
      "outputs": []
    },
    {
      "cell_type": "code",
      "source": [
        "from tensorflow.python.framework.test_util import for_all_test_methods\n",
        "base_model2.trainable = for_all_test_methods\n",
        "\n",
        "inputs = tfkl.Input(shape=input_shape)\n",
        "x = base_model2(inputs)\n",
        "x = tfkl.GlobalAveragePooling2D()(x)\n",
        "x = tfkl.Dropout( 0.2,name='Dropout1', seed=seed)(x)\n",
        "x = tfkl.Dense(512,activation='relu',kernel_initializer = tfk.initializers.GlorotUniform(seed))(x)\n",
        "x = tfkl.Dropout(0.2, name='Dropout2',seed=seed)(x)\n",
        "x= tfkl.Dense(units=512, name='Classifier2', kernel_initializer=tfk.initializers.HeUniform(seed), activation='relu')(x)\n",
        "outputs = tfk.layers.Dense(8,activation='softmax',kernel_initializer=tfk.initializers.GlorotUniform(seed), name='Output')(x)\n",
        "model2 = tfk.Model(inputs, outputs)"
      ],
      "metadata": {
        "id": "6B31SNDuEVl5"
      },
      "execution_count": null,
      "outputs": []
    },
    {
      "cell_type": "code",
      "source": [
        "model2.compile(loss=tfk.losses.CategoricalCrossentropy(), optimizer=tfk.optimizers.Adam(learning_rate=0.001), metrics='accuracy')\n",
        "model2.summary()"
      ],
      "metadata": {
        "id": "S7xCUXr7EVjI"
      },
      "execution_count": null,
      "outputs": []
    },
    {
      "cell_type": "code",
      "source": [
        "history2 = model2.fit(\n",
        "    x = aug_train_data,\n",
        "    epochs = epochs,\n",
        "    validation_data = val_data,\n",
        "    callbacks = [tfk.callbacks.EarlyStopping(monitor='val_loss', patience=12, restore_best_weights=True )]\n",
        ").history"
      ],
      "metadata": {
        "id": "OoxSfwAVHx00"
      },
      "execution_count": null,
      "outputs": []
    },
    {
      "cell_type": "code",
      "source": [
        "model2.compile(loss=tfk.losses.CategoricalCrossentropy(), optimizer=tfk.optimizers.Adam(learning_rate=0.0002), metrics='accuracy')\n",
        "history = model2.fit(\n",
        "    x = aug_train_data,\n",
        "    epochs = epochs,\n",
        "    validation_data = val_data,\n",
        "    callbacks = [tfk.callbacks.EarlyStopping(monitor='val_loss', patience=15, restore_best_weights=True )]\n",
        ").history"
      ],
      "metadata": {
        "id": "Fu_YSOqJH0u9"
      },
      "execution_count": null,
      "outputs": []
    },
    {
      "cell_type": "code",
      "source": [
        "model2.compile(loss=tfk.losses.CategoricalCrossentropy(), optimizer=tfk.optimizers.Adam(learning_rate=0.00004), metrics='accuracy')\n",
        "history = model2.fit(\n",
        "    x = aug_train_data,\n",
        "    epochs = epochs,\n",
        "    validation_data = val_data,\n",
        "    callbacks = [tfk.callbacks.EarlyStopping(monitor='val_loss', patience=15, restore_best_weights=True )]\n",
        ").history"
      ],
      "metadata": {
        "id": "pofn3IgmIAvD"
      },
      "execution_count": null,
      "outputs": []
    },
    {
      "cell_type": "markdown",
      "source": [
        "# Fine Tuning the EffecientnetB2 with three learning rates: [0.0005,0.00008,0.00002]"
      ],
      "metadata": {
        "id": "ERkqq0ybJJjI"
      }
    },
    {
      "cell_type": "code",
      "source": [
        "base_model2.trainable = True\n",
        "model2.compile(loss=tfk.losses.CategoricalCrossentropy(), optimizer=tfk.optimizers.Adam(learning_rate=0.0005), metrics='accuracy')\n",
        "model2.summary()"
      ],
      "metadata": {
        "id": "9fYajD0jEVgs"
      },
      "execution_count": null,
      "outputs": []
    },
    {
      "cell_type": "code",
      "source": [
        "history = model2.fit(\n",
        "    x = aug_train_data,\n",
        "    epochs = epochs,\n",
        "    validation_data = val_data,\n",
        "    callbacks = [tfk.callbacks.EarlyStopping(monitor='val_loss', patience=15, restore_best_weights=True )]\n",
        ").history\n"
      ],
      "metadata": {
        "id": "83ju4FdeEVd4"
      },
      "execution_count": null,
      "outputs": []
    },
    {
      "cell_type": "code",
      "source": [
        "model2.compile(loss=tfk.losses.CategoricalCrossentropy(), optimizer=tfk.optimizers.Adam(learning_rate=0.00008), metrics='accuracy')\n",
        "history = model2.fit(\n",
        "    x = aug_train_data,\n",
        "    epochs = epochs,\n",
        "    validation_data = val_data,\n",
        "    callbacks = [tfk.callbacks.EarlyStopping(monitor='val_loss', patience=15, restore_best_weights=True )]\n",
        ").history\n"
      ],
      "metadata": {
        "id": "Ns_6OkxNb2Nu"
      },
      "execution_count": null,
      "outputs": []
    },
    {
      "cell_type": "code",
      "source": [
        "model2.compile(loss=tfk.losses.CategoricalCrossentropy(), optimizer=tfk.optimizers.Adam(learning_rate=0.00002), metrics='accuracy')\n",
        "history = model2.fit(\n",
        "    x = aug_train_data,\n",
        "    epochs = epochs,\n",
        "    validation_data = val_data,\n",
        "    callbacks = [tfk.callbacks.EarlyStopping(monitor='val_loss', patience=15, restore_best_weights=True )]\n",
        ").history\n"
      ],
      "metadata": {
        "id": "Ql8pf1iVoBB3"
      },
      "execution_count": null,
      "outputs": []
    },
    {
      "cell_type": "code",
      "source": [
        "model2.save('MyDrive/efficientnetb2_transferall')"
      ],
      "metadata": {
        "id": "tu0usKBnobND"
      },
      "execution_count": null,
      "outputs": []
    },
    {
      "cell_type": "markdown",
      "source": [
        "# Ensemble Model"
      ],
      "metadata": {
        "id": "uOnZgXKkTNqT"
      }
    },
    {
      "cell_type": "code",
      "source": [
        "# load the two fine tuned models\n",
        "efficientnetb2tl=tfk.models.load_model('efficientnetb2_transferall')\n",
        "efficientnetb2tl._name='efficientnetb2tl'\n",
        "efficientnetb1tl=tfk.models.load_model('efficientnetb1_transferall')\n",
        "efficientnetb1tl._name='efficientnetb1tl'"
      ],
      "metadata": {
        "id": "0-DgLTu2dv7M"
      },
      "execution_count": null,
      "outputs": []
    },
    {
      "cell_type": "code",
      "source": [
        "input=tfkl.Input(shape=input_shape,name='inputlayer_resnet')\n",
        "x1=efficientnetb2tl(input)\n",
        "x2=efficientnetb1tl(input)\n",
        "\n",
        "x=tf.keras.layers.Concatenate()([x1,x2])\n",
        "output_layer=tfkl.Dense(units=8,activation='softmax',name='output_layer2',kernel_initializer=tfk.initializers.HeUniform(seed))(x)\n",
        "ensemble_model=tfk.Model(inputs=input,outputs=output_layer,name='model')\n",
        "ensemble_model.get_layer('efficientnetb2tl').trainable=False\n",
        "ensemble_model.get_layer('efficientnetb1tl').trainable=False"
      ],
      "metadata": {
        "id": "Uka3HzMla_rj"
      },
      "execution_count": null,
      "outputs": []
    },
    {
      "cell_type": "code",
      "source": [
        "ensemble_model.compile(loss=tfk.losses.CategoricalCrossentropy(), optimizer=tfk.optimizers.Adam(learning_rate=0.001), metrics='accuracy')"
      ],
      "metadata": {
        "id": "oVBcRJ3MgMGX"
      },
      "execution_count": null,
      "outputs": []
    },
    {
      "cell_type": "code",
      "source": [
        "history = ensemble_model.fit(\n",
        "    x = aug_train_data,\n",
        "    epochs = 200,\n",
        "    validation_data = val_data,\n",
        "    callbacks = [tfk.callbacks.EarlyStopping(monitor='val_loss', patience=15, restore_best_weights=True )]\n",
        ").history"
      ],
      "metadata": {
        "id": "IP8RWOB0gyki"
      },
      "execution_count": null,
      "outputs": []
    },
    {
      "cell_type": "code",
      "source": [
        "ensemble_model.save('MyDrive/ensemble_efficientnet12')"
      ],
      "metadata": {
        "id": "veL5jYItg473"
      },
      "execution_count": null,
      "outputs": []
    }
  ]
}